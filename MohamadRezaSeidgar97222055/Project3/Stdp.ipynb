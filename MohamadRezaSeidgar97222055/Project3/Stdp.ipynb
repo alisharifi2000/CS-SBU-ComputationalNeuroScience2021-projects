{
  "nbformat": 4,
  "nbformat_minor": 0,
  "metadata": {
    "colab": {
      "name": "Stdp.ipynb",
      "provenance": [],
      "collapsed_sections": []
    },
    "kernelspec": {
      "name": "python3",
      "display_name": "Python 3"
    },
    "language_info": {
      "name": "python"
    }
  },
  "cells": [
    {
      "cell_type": "code",
      "metadata": {
        "colab": {
          "base_uri": "https://localhost:8080/"
        },
        "id": "JfNEiWLzj2Zx",
        "outputId": "e5fa08a1-f9c6-447c-fd26-ca04d1f958c6"
      },
      "source": [
        "!pip install brian2"
      ],
      "execution_count": 1,
      "outputs": [
        {
          "output_type": "stream",
          "text": [
            "Requirement already satisfied: brian2 in /usr/local/lib/python3.7/dist-packages (2.4.2)\n",
            "Requirement already satisfied: jinja2>=2.7 in /usr/local/lib/python3.7/dist-packages (from brian2) (2.11.3)\n",
            "Requirement already satisfied: sympy>=1.2 in /usr/local/lib/python3.7/dist-packages (from brian2) (1.7.1)\n",
            "Requirement already satisfied: cython>=0.29 in /usr/local/lib/python3.7/dist-packages (from brian2) (0.29.23)\n",
            "Requirement already satisfied: setuptools>=24.2 in /usr/local/lib/python3.7/dist-packages (from brian2) (57.0.0)\n",
            "Requirement already satisfied: numpy>=1.15 in /usr/local/lib/python3.7/dist-packages (from brian2) (1.19.5)\n",
            "Requirement already satisfied: pyparsing in /usr/local/lib/python3.7/dist-packages (from brian2) (2.4.7)\n",
            "Requirement already satisfied: MarkupSafe>=0.23 in /usr/local/lib/python3.7/dist-packages (from jinja2>=2.7->brian2) (2.0.1)\n",
            "Requirement already satisfied: mpmath>=0.19 in /usr/local/lib/python3.7/dist-packages (from sympy>=1.2->brian2) (1.2.1)\n"
          ],
          "name": "stdout"
        }
      ]
    },
    {
      "cell_type": "code",
      "metadata": {
        "id": "580YzNMrMyQh"
      },
      "source": [
        "from brian2 import *\n",
        "%matplotlib inline"
      ],
      "execution_count": 2,
      "outputs": []
    },
    {
      "cell_type": "code",
      "metadata": {
        "id": "CZcIyy5itveS"
      },
      "source": [
        "tau_pre = tau_post = 10*ms\n",
        "Apre = 0.01\n",
        "Apost = -Apre*tau_pre/tau_post*1.05\n",
        "time_max = 60*ms\n",
        "N = 10"
      ],
      "execution_count": 3,
      "outputs": []
    },
    {
      "cell_type": "code",
      "metadata": {
        "id": "qE9zXiMctwi0"
      },
      "source": [
        "G = NeuronGroup(N, 'tspike:second', threshold='t>tspike', refractory=100*ms)\n",
        "H = NeuronGroup(N, 'tspike:second', threshold='t>tspike', refractory=100*ms)\n",
        "G.tspike = 'i*time_max/(N-1)'\n",
        "H.tspike = '(N-1-i)*time_max/(N-1)'"
      ],
      "execution_count": 4,
      "outputs": []
    },
    {
      "cell_type": "code",
      "metadata": {
        "id": "tWFS6Gljtxvy"
      },
      "source": [
        "S = Synapses(G, H,\n",
        "             '''\n",
        "             w : 1\n",
        "             dapre/dt = -apre/tau_pre : 1 (event-driven)\n",
        "             dapost/dt = -apost/tau_post : 1 (event-driven)\n",
        "             ''',\n",
        "             on_pre='''\n",
        "             apre = apre + Apre\n",
        "             w = w + apost\n",
        "             ''',\n",
        "             on_post='''\n",
        "             apost = apost + Apost\n",
        "             w = w + apre\n",
        "             ''')\n",
        "S.connect(j='i')\n",
        "\n",
        "run(time_max+1*ms)"
      ],
      "execution_count": 5,
      "outputs": []
    },
    {
      "cell_type": "code",
      "metadata": {
        "id": "zw-43k7Ytzz1",
        "colab": {
          "base_uri": "https://localhost:8080/",
          "height": 279
        },
        "outputId": "10d1d9de-8bf0-4503-e006-84f302503114"
      },
      "source": [
        "plt.plot((H.tspike-G.tspike)/ms, S.w)\n",
        "plt.xlabel('Delta t (ms)')\n",
        "plt.ylabel('Delta w')\n",
        "plt.axhline(0, ls='-' , c = 'k')\n",
        "plt.axvline(0, ls='-' , c = 'k')\n",
        "plt.show()"
      ],
      "execution_count": 6,
      "outputs": [
        {
          "output_type": "display_data",
          "data": {
            "image/png": "[encoded data removed]",
            "text/plain": [
              "<Figure size 432x288 with 1 Axes>"
            ]
          },
          "metadata": {
            "tags": [],
            "needs_background": "light"
          }
        }
      ]
    },
    {
      "cell_type": "code",
      "metadata": {
        "id": "ZSssseQJLY3m"
      },
      "source": [
        "tau_pre = tau_post = 10*ms\n",
        "Apre = 0.01\n",
        "Apost = -Apre*tau_pre/tau_post*1.05\n",
        "time_max = 60*ms\n",
        "N = 50"
      ],
      "execution_count": 7,
      "outputs": []
    },
    {
      "cell_type": "code",
      "metadata": {
        "id": "BgI2ujiNLdnn"
      },
      "source": [
        "G = NeuronGroup(N, 'tspike:second', threshold='t>tspike', refractory=100*ms)\n",
        "H = NeuronGroup(N, 'tspike:second', threshold='t>tspike', refractory=100*ms)\n",
        "G.tspike = 'i*time_max/(N-1)'\n",
        "H.tspike = '(N-1-i)*time_max/(N-1)'"
      ],
      "execution_count": 8,
      "outputs": []
    },
    {
      "cell_type": "code",
      "metadata": {
        "id": "bL8ZtFZELflX"
      },
      "source": [
        "S = Synapses(G, H,\n",
        "             '''\n",
        "             w : 1\n",
        "             dapre/dt = -apre/tau_pre : 1 (event-driven)\n",
        "             dapost/dt = -apost/tau_post : 1 (event-driven)\n",
        "             ''',\n",
        "             on_pre='''\n",
        "             apre = apre + Apre\n",
        "             w = w + apost\n",
        "             ''',\n",
        "             on_post='''\n",
        "             apost = apost + Apost\n",
        "             w = w + apre\n",
        "             ''')\n",
        "S.connect(j='i')\n",
        "\n",
        "run(time_max+1*ms)"
      ],
      "execution_count": 9,
      "outputs": []
    },
    {
      "cell_type": "code",
      "metadata": {
        "id": "DtFgXuYGP0LS"
      },
      "source": [
        "import matplotlib.pyplot as plt"
      ],
      "execution_count": 10,
      "outputs": []
    },
    {
      "cell_type": "code",
      "metadata": {
        "colab": {
          "base_uri": "https://localhost:8080/",
          "height": 279
        },
        "id": "16WIcKOQQCcC",
        "outputId": "68f889a1-5db6-47ae-ad54-6c787d9ffdc3"
      },
      "source": [
        "plt.plot((H.tspike-G.tspike)/ms, S.w)\n",
        "plt.xlabel('Delta t (ms)')\n",
        "plt.ylabel('Delta w')\n",
        "plt.axhline(0, ls='-' , c = 'k')\n",
        "plt.axvline(0, ls='-' , c = 'k')\n",
        "plt.show()"
      ],
      "execution_count": 11,
      "outputs": [
        {
          "output_type": "display_data",
          "data": {
            "image/png": "[encoded data removed]",
            "text/plain": [
              "<Figure size 432x288 with 1 Axes>"
            ]
          },
          "metadata": {
            "tags": [],
            "needs_background": "light"
          }
        }
      ]
    },
    {
      "cell_type": "code",
      "metadata": {
        "id": "qtE-FjbvsqAo"
      },
      "source": [
        "tau_pre = tau_post = 10*ms\n",
        "Apre = 0.01\n",
        "Apost = -Apre*tau_pre/tau_post*1.05\n",
        "time_max = 60*ms\n",
        "N = 100"
      ],
      "execution_count": 12,
      "outputs": []
    },
    {
      "cell_type": "code",
      "metadata": {
        "id": "3NPK0k6Wss9j"
      },
      "source": [
        "G = NeuronGroup(N, 'tspike:second', threshold='t>tspike', refractory=100*ms)\n",
        "H = NeuronGroup(N, 'tspike:second', threshold='t>tspike', refractory=100*ms)\n",
        "G.tspike = 'i*time_max/(N-1)'\n",
        "H.tspike = '(N-1-i)*time_max/(N-1)'"
      ],
      "execution_count": 13,
      "outputs": []
    },
    {
      "cell_type": "code",
      "metadata": {
        "id": "r7NmMbU3suoY"
      },
      "source": [
        "S = Synapses(G, H,\n",
        "             '''\n",
        "             w : 1\n",
        "             dapre/dt = -apre/tau_pre : 1 (event-driven)\n",
        "             dapost/dt = -apost/tau_post : 1 (event-driven)\n",
        "             ''',\n",
        "             on_pre='''\n",
        "             apre = apre + Apre\n",
        "             w = w + apost\n",
        "             ''',\n",
        "             on_post='''\n",
        "             apost = apost + Apost\n",
        "             w = w + apre\n",
        "             ''')\n",
        "S.connect(j='i')\n",
        "\n",
        "run(time_max+1*ms)"
      ],
      "execution_count": 14,
      "outputs": []
    },
    {
      "cell_type": "code",
      "metadata": {
        "colab": {
          "base_uri": "https://localhost:8080/",
          "height": 280
        },
        "id": "TI4YzxYwswn4",
        "outputId": "1678d4ad-e526-49e0-cd63-20d75375c905"
      },
      "source": [
        "plt.plot((H.tspike-G.tspike)/ms, S.w)\n",
        "plt.xlabel('Delta t (ms)')\n",
        "plt.ylabel('Delta w')\n",
        "plt.axhline(0, ls='-' , c = 'k')\n",
        "plt.axvline(0, ls='-' , c = 'k')\n",
        "plt.show()"
      ],
      "execution_count": 15,
      "outputs": [
        {
          "output_type": "display_data",
          "data": {
            "image/png": "[encoded data removed]",
            "text/plain": [
              "<Figure size 432x288 with 1 Axes>"
            ]
          },
          "metadata": {
            "tags": [],
            "needs_background": "light"
          }
        }
      ]
    },
    {
      "cell_type": "code",
      "metadata": {
        "id": "QMKbJyCuxCd6"
      },
      "source": [
        "tau_pre = tau_post = 50*ms\n",
        "Apre = 0.01\n",
        "Apost = -Apre*tau_pre/tau_post*1.05\n",
        "time_max = 60*ms\n",
        "N = 100"
      ],
      "execution_count": 16,
      "outputs": []
    },
    {
      "cell_type": "code",
      "metadata": {
        "id": "f1PG3CG1xE5k"
      },
      "source": [
        "G = NeuronGroup(N, 'tspike:second', threshold='t>tspike', refractory=100*ms)\n",
        "H = NeuronGroup(N, 'tspike:second', threshold='t>tspike', refractory=100*ms)\n",
        "G.tspike = 'i*time_max/(N-1)'\n",
        "H.tspike = '(N-1-i)*time_max/(N-1)'"
      ],
      "execution_count": 17,
      "outputs": []
    },
    {
      "cell_type": "code",
      "metadata": {
        "id": "wsgEmumaxHng"
      },
      "source": [
        "S = Synapses(G, H,\n",
        "             '''\n",
        "             w : 1\n",
        "             dapre/dt = -apre/tau_pre : 1 (event-driven)\n",
        "             dapost/dt = -apost/tau_post : 1 (event-driven)\n",
        "             ''',\n",
        "             on_pre='''\n",
        "             apre = apre + Apre\n",
        "             w = w + apost\n",
        "             ''',\n",
        "             on_post='''\n",
        "             apost = apost + Apost\n",
        "             w = w + apre\n",
        "             ''')\n",
        "S.connect(j='i')\n",
        "\n",
        "run(time_max+1*ms)"
      ],
      "execution_count": 18,
      "outputs": []
    },
    {
      "cell_type": "code",
      "metadata": {
        "colab": {
          "base_uri": "https://localhost:8080/",
          "height": 279
        },
        "id": "d-v66OLRxJfT",
        "outputId": "2c2271fa-3b32-4128-d268-d06d980a7893"
      },
      "source": [
        "plt.plot((H.tspike-G.tspike)/ms, S.w)\n",
        "plt.xlabel('Delta t (ms)')\n",
        "plt.ylabel('Delta w')\n",
        "plt.axhline(0, ls='-' , c = 'k')\n",
        "plt.axvline(0, ls='-' , c = 'k')\n",
        "plt.show()"
      ],
      "execution_count": 19,
      "outputs": [
        {
          "output_type": "display_data",
          "data": {
            "image/png": "[encoded data removed]",
            "text/plain": [
              "<Figure size 432x288 with 1 Axes>"
            ]
          },
          "metadata": {
            "tags": [],
            "needs_background": "light"
          }
        }
      ]
    },
    {
      "cell_type": "code",
      "metadata": {
        "colab": {
          "base_uri": "https://localhost:8080/",
          "height": 446
        },
        "id": "tOpEcEW-V7Up",
        "outputId": "b6f0e7c0-fe92-4851-df7e-736bc85b50b2"
      },
      "source": [
        "import random\n",
        "inp_N   = 10\n",
        "out_N   = 2\n",
        "v_rest                     = -70 * mV\n",
        "v_reset                    = [-65 * mV, -64*mV]\n",
        "firing_threshold           = [-50 * mV, -48*mV]\n",
        "membrane_time_scale        = 8.  * ms\n",
        "\n",
        "taupre = taupost = 80*ms\n",
        "Apre = 0.01\n",
        "Apost = -Apre*taupre/taupost*1.01\n",
        "\n",
        "\n",
        "eqs = \"\"\"\n",
        "    dv/dt = (-(v-v_rest))/ membrane_time_scale : volt\n",
        "    firing_threshold : volt\n",
        "    v_reset : volt\n",
        "    \"\"\"\n",
        "\n",
        "\n",
        "indices = array([0,2,4,6,8])\n",
        "times = array([0,1,1,0,2])*ms\n",
        "\n",
        "\n",
        "\n",
        "input_layer     = SpikeGeneratorGroup(inp_N, indices, times)\n",
        "output_layer    = NeuronGroup(out_N,  eqs, threshold='v>=firing_threshold', reset='v=v_reset', method='linear')\n",
        "output_layer.firing_threshold = firing_threshold\n",
        "output_layer.v_reset = v_reset\n",
        "\n",
        "syn = Synapses(input_layer, output_layer, '''\n",
        "            w : 1\n",
        "            dapre/dt  = -apre /taupre  : 1 (event-driven)\n",
        "            dapost/dt = -apost/taupost : 1 (event-driven)\n",
        "            ''',\n",
        "            on_pre='''\n",
        "            v_post += 5*w*mV\n",
        "            apre += Apre\n",
        "            w = w+apost\n",
        "            ''',\n",
        "            on_post='''             \n",
        "            apost += Apost\n",
        "            w = w+apre\n",
        "            ''')\n",
        "syn.connect(p=1)\n",
        "syn.w = [rand() for i in range(20)]\n",
        "\n",
        "synapse_mon     = StateMonitor(syn, ['w', 'apost', 'apre', 'v_post'] , record=True)\n",
        "out_mon         = StateMonitor(output_layer, 'v', record=True)\n",
        "out_spike_mon   = SpikeMonitor(output_layer)\n",
        "in_spike_mon    = SpikeMonitor(input_layer)\n",
        "\n",
        "run(times[-1])\n",
        "\n",
        "plot(synapse_mon.t, synapse_mon.apost[0].T, label='apost')\n",
        "plot(synapse_mon.t, synapse_mon.apre[0].T, label='apre')\n",
        "legend()\n",
        "show()\n",
        "\n",
        "\n",
        "fig, axs = plt.subplots(2, 3)\n",
        "axs[0, 0].plot(out_mon.t, out_mon.v[0].T, label='neuron 1')\n",
        "axs[0, 0].set_title(\"output layer potential\")\n",
        "axs[0, 0].legend()\n",
        "axs[1, 0].plot(out_mon.t, out_mon.v[1].T, label='neuron 2')\n",
        "axs[1, 0].set_title(\"output layer potential\")\n",
        "axs[1, 0].legend()\n",
        "for i in range(10):\n",
        "    axs[0, 1].plot(synapse_mon.t, synapse_mon.w[i].T, label='neuron 1')\n",
        "axs[0, 1].set_title(\"synaptic weights / neuron 1\")\n",
        "for i in range(10,20):\n",
        "    axs[1, 1].plot(synapse_mon.t, synapse_mon.w[i].T, label='neuron 1')\n",
        "axs[1, 1].set_title(\"synaptic weights / neuron 2\")\n",
        "axs[0, 2].plot(out_spike_mon.t, out_spike_mon.i, '.k')\n",
        "axs[0, 2].set_title(\"output layer spikes\")\n",
        "axs[1, 2].plot(in_spike_mon.t, in_spike_mon.i, '.k')\n",
        "axs[1, 2].set_title(\"input layer spikes\")\n",
        "\n",
        "show()\n",
        "quit()"
      ],
      "execution_count": 22,
      "outputs": [
        {
          "output_type": "error",
          "ename": "MagicError",
          "evalue": "ignored",
          "traceback": [
            "\u001b[0;31m---------------------------------------------------------------------------\u001b[0m",
            "\u001b[0;31mMagicError\u001b[0m                                Traceback (most recent call last)",
            "\u001b[0;32m<ipython-input-22-742ba7fa1ba6>\u001b[0m in \u001b[0;36m<module>\u001b[0;34m()\u001b[0m\n\u001b[1;32m     58\u001b[0m \u001b[0min_spike_mon\u001b[0m    \u001b[0;34m=\u001b[0m \u001b[0mSpikeMonitor\u001b[0m\u001b[0;34m(\u001b[0m\u001b[0minput_layer\u001b[0m\u001b[0;34m)\u001b[0m\u001b[0;34m\u001b[0m\u001b[0;34m\u001b[0m\u001b[0m\n\u001b[1;32m     59\u001b[0m \u001b[0;34m\u001b[0m\u001b[0m\n\u001b[0;32m---> 60\u001b[0;31m \u001b[0mrun\u001b[0m\u001b[0;34m(\u001b[0m\u001b[0mtimes\u001b[0m\u001b[0;34m[\u001b[0m\u001b[0;34m-\u001b[0m\u001b[0;36m1\u001b[0m\u001b[0;34m]\u001b[0m\u001b[0;34m)\u001b[0m\u001b[0;34m\u001b[0m\u001b[0;34m\u001b[0m\u001b[0m\n\u001b[0m\u001b[1;32m     61\u001b[0m \u001b[0;34m\u001b[0m\u001b[0m\n\u001b[1;32m     62\u001b[0m \u001b[0mplot\u001b[0m\u001b[0;34m(\u001b[0m\u001b[0msynapse_mon\u001b[0m\u001b[0;34m.\u001b[0m\u001b[0mt\u001b[0m\u001b[0;34m,\u001b[0m \u001b[0msynapse_mon\u001b[0m\u001b[0;34m.\u001b[0m\u001b[0mapost\u001b[0m\u001b[0;34m[\u001b[0m\u001b[0;36m0\u001b[0m\u001b[0;34m]\u001b[0m\u001b[0;34m.\u001b[0m\u001b[0mT\u001b[0m\u001b[0;34m,\u001b[0m \u001b[0mlabel\u001b[0m\u001b[0;34m=\u001b[0m\u001b[0;34m'apost'\u001b[0m\u001b[0;34m)\u001b[0m\u001b[0;34m\u001b[0m\u001b[0;34m\u001b[0m\u001b[0m\n",
            "\u001b[0;32m/usr/local/lib/python3.7/dist-packages/brian2/units/fundamentalunits.py\u001b[0m in \u001b[0;36mnew_f\u001b[0;34m(*args, **kwds)\u001b[0m\n\u001b[1;32m   2432\u001b[0m                                                      get_dimensions(newkeyset[k]))\n\u001b[1;32m   2433\u001b[0m \u001b[0;34m\u001b[0m\u001b[0m\n\u001b[0;32m-> 2434\u001b[0;31m             \u001b[0mresult\u001b[0m \u001b[0;34m=\u001b[0m \u001b[0mf\u001b[0m\u001b[0;34m(\u001b[0m\u001b[0;34m*\u001b[0m\u001b[0margs\u001b[0m\u001b[0;34m,\u001b[0m \u001b[0;34m**\u001b[0m\u001b[0mkwds\u001b[0m\u001b[0;34m)\u001b[0m\u001b[0;34m\u001b[0m\u001b[0;34m\u001b[0m\u001b[0m\n\u001b[0m\u001b[1;32m   2435\u001b[0m             \u001b[0;32mif\u001b[0m \u001b[0;34m'result'\u001b[0m \u001b[0;32min\u001b[0m \u001b[0mau\u001b[0m\u001b[0;34m:\u001b[0m\u001b[0;34m\u001b[0m\u001b[0;34m\u001b[0m\u001b[0m\n\u001b[1;32m   2436\u001b[0m                 \u001b[0;32mif\u001b[0m \u001b[0misinstance\u001b[0m\u001b[0;34m(\u001b[0m\u001b[0mau\u001b[0m\u001b[0;34m[\u001b[0m\u001b[0;34m'result'\u001b[0m\u001b[0;34m]\u001b[0m\u001b[0;34m,\u001b[0m \u001b[0mCallable\u001b[0m\u001b[0;34m)\u001b[0m \u001b[0;32mand\u001b[0m \u001b[0mau\u001b[0m\u001b[0;34m[\u001b[0m\u001b[0;34m'result'\u001b[0m\u001b[0;34m]\u001b[0m \u001b[0;34m!=\u001b[0m \u001b[0mbool\u001b[0m\u001b[0;34m:\u001b[0m\u001b[0;34m\u001b[0m\u001b[0;34m\u001b[0m\u001b[0m\n",
            "\u001b[0;32m/usr/local/lib/python3.7/dist-packages/brian2/core/magic.py\u001b[0m in \u001b[0;36mrun\u001b[0;34m(duration, report, report_period, namespace, profile, level)\u001b[0m\n\u001b[1;32m    372\u001b[0m     '''\n\u001b[1;32m    373\u001b[0m     return magic_network.run(duration, report=report, report_period=report_period,\n\u001b[0;32m--> 374\u001b[0;31m                              namespace=namespace, profile=profile, level=2+level)\n\u001b[0m\u001b[1;32m    375\u001b[0m \u001b[0mrun\u001b[0m\u001b[0;34m.\u001b[0m\u001b[0m__module__\u001b[0m \u001b[0;34m=\u001b[0m \u001b[0m__name__\u001b[0m\u001b[0;34m\u001b[0m\u001b[0;34m\u001b[0m\u001b[0m\n\u001b[1;32m    376\u001b[0m \u001b[0;34m\u001b[0m\u001b[0m\n",
            "\u001b[0;32m/usr/local/lib/python3.7/dist-packages/brian2/core/magic.py\u001b[0m in \u001b[0;36mrun\u001b[0;34m(self, duration, report, report_period, namespace, profile, level)\u001b[0m\n\u001b[1;32m    228\u001b[0m     def run(self, duration, report=None, report_period=10*second,\n\u001b[1;32m    229\u001b[0m             namespace=None, profile=False, level=0):\n\u001b[0;32m--> 230\u001b[0;31m         \u001b[0mself\u001b[0m\u001b[0;34m.\u001b[0m\u001b[0m_update_magic_objects\u001b[0m\u001b[0;34m(\u001b[0m\u001b[0mlevel\u001b[0m\u001b[0;34m=\u001b[0m\u001b[0mlevel\u001b[0m\u001b[0;34m+\u001b[0m\u001b[0;36m1\u001b[0m\u001b[0;34m)\u001b[0m\u001b[0;34m\u001b[0m\u001b[0;34m\u001b[0m\u001b[0m\n\u001b[0m\u001b[1;32m    231\u001b[0m         Network.run(self, duration, report=report, report_period=report_period,\n\u001b[1;32m    232\u001b[0m                     namespace=namespace, profile=profile, level=level+1)\n",
            "\u001b[0;32m/usr/local/lib/python3.7/dist-packages/brian2/core/magic.py\u001b[0m in \u001b[0;36m_update_magic_objects\u001b[0;34m(self, level)\u001b[0m\n\u001b[1;32m    182\u001b[0m \u001b[0;34m\u001b[0m\u001b[0m\n\u001b[1;32m    183\u001b[0m         \u001b[0;32mif\u001b[0m \u001b[0msome_known\u001b[0m \u001b[0;32mand\u001b[0m \u001b[0msome_new\u001b[0m\u001b[0;34m:\u001b[0m\u001b[0;34m\u001b[0m\u001b[0;34m\u001b[0m\u001b[0m\n\u001b[0;32m--> 184\u001b[0;31m             raise MagicError(('The magic network contains a mix of objects '\n\u001b[0m\u001b[1;32m    185\u001b[0m                               \u001b[0;34m'that has been run before and new objects, Brian '\u001b[0m\u001b[0;34m\u001b[0m\u001b[0;34m\u001b[0m\u001b[0m\n\u001b[1;32m    186\u001b[0m                               \u001b[0;34m'does not know whether you want to start a new '\u001b[0m\u001b[0;34m\u001b[0m\u001b[0;34m\u001b[0m\u001b[0m\n",
            "\u001b[0;31mMagicError\u001b[0m: The magic network contains a mix of objects that has been run before and new objects, Brian does not know whether you want to start a new simulation or continue an old one. Consider explicitly creating a Network object. Also note that you can find out which objects will be included in a magic network with the collect() function."
          ]
        }
      ]
    }
  ]
}