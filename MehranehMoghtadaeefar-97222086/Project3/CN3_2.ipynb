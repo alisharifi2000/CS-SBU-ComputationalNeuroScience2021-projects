{
  "nbformat": 4,
  "nbformat_minor": 0,
  "metadata": {
    "colab": {
      "name": "CN3-2.ipynb",
      "provenance": [],
      "collapsed_sections": []
    },
    "kernelspec": {
      "name": "python3",
      "display_name": "Python 3"
    },
    "language_info": {
      "name": "python"
    }
  },
  "cells": [
    {
      "cell_type": "code",
      "metadata": {
        "colab": {
          "base_uri": "https://localhost:8080/"
        },
        "id": "pvOVlbR2K-pV",
        "outputId": "46fbe7ff-38f8-4a1f-b580-1ea887994307"
      },
      "source": [
        "!pip install brian2"
      ],
      "execution_count": 1,
      "outputs": [
        {
          "output_type": "stream",
          "text": [
            "Collecting brian2\n",
            "\u001b[?25l  Downloading https://files.pythonhosted.org/packages/9a/c7/565012c479953d041d5e828938515d3c402d0c3f4942180f1c44cb0f472e/Brian2-2.4.2.tar.gz (1.2MB)\n",
            "\r\u001b[K     |▎                               | 10kB 15.1MB/s eta 0:00:01\r\u001b[K     |▋                               | 20kB 19.2MB/s eta 0:00:01\r\u001b[K     |▉                               | 30kB 17.6MB/s eta 0:00:01\r\u001b[K     |█▏                              | 40kB 14.7MB/s eta 0:00:01\r\u001b[K     |█▍                              | 51kB 7.1MB/s eta 0:00:01\r\u001b[K     |█▊                              | 61kB 8.3MB/s eta 0:00:01\r\u001b[K     |██                              | 71kB 7.9MB/s eta 0:00:01\r\u001b[K     |██▎                             | 81kB 8.6MB/s eta 0:00:01\r\u001b[K     |██▋                             | 92kB 9.2MB/s eta 0:00:01\r\u001b[K     |██▉                             | 102kB 7.6MB/s eta 0:00:01\r\u001b[K     |███▏                            | 112kB 7.6MB/s eta 0:00:01\r\u001b[K     |███▍                            | 122kB 7.6MB/s eta 0:00:01\r\u001b[K     |███▊                            | 133kB 7.6MB/s eta 0:00:01\r\u001b[K     |████                            | 143kB 7.6MB/s eta 0:00:01\r\u001b[K     |████▎                           | 153kB 7.6MB/s eta 0:00:01\r\u001b[K     |████▋                           | 163kB 7.6MB/s eta 0:00:01\r\u001b[K     |████▉                           | 174kB 7.6MB/s eta 0:00:01\r\u001b[K     |█████▏                          | 184kB 7.6MB/s eta 0:00:01\r\u001b[K     |█████▍                          | 194kB 7.6MB/s eta 0:00:01\r\u001b[K     |█████▊                          | 204kB 7.6MB/s eta 0:00:01\r\u001b[K     |██████                          | 215kB 7.6MB/s eta 0:00:01\r\u001b[K     |██████▎                         | 225kB 7.6MB/s eta 0:00:01\r\u001b[K     |██████▌                         | 235kB 7.6MB/s eta 0:00:01\r\u001b[K     |██████▉                         | 245kB 7.6MB/s eta 0:00:01\r\u001b[K     |███████▏                        | 256kB 7.6MB/s eta 0:00:01\r\u001b[K     |███████▍                        | 266kB 7.6MB/s eta 0:00:01\r\u001b[K     |███████▊                        | 276kB 7.6MB/s eta 0:00:01\r\u001b[K     |████████                        | 286kB 7.6MB/s eta 0:00:01\r\u001b[K     |████████▎                       | 296kB 7.6MB/s eta 0:00:01\r\u001b[K     |████████▌                       | 307kB 7.6MB/s eta 0:00:01\r\u001b[K     |████████▉                       | 317kB 7.6MB/s eta 0:00:01\r\u001b[K     |█████████▏                      | 327kB 7.6MB/s eta 0:00:01\r\u001b[K     |█████████▍                      | 337kB 7.6MB/s eta 0:00:01\r\u001b[K     |█████████▊                      | 348kB 7.6MB/s eta 0:00:01\r\u001b[K     |██████████                      | 358kB 7.6MB/s eta 0:00:01\r\u001b[K     |██████████▎                     | 368kB 7.6MB/s eta 0:00:01\r\u001b[K     |██████████▌                     | 378kB 7.6MB/s eta 0:00:01\r\u001b[K     |██████████▉                     | 389kB 7.6MB/s eta 0:00:01\r\u001b[K     |███████████                     | 399kB 7.6MB/s eta 0:00:01\r\u001b[K     |███████████▍                    | 409kB 7.6MB/s eta 0:00:01\r\u001b[K     |███████████▊                    | 419kB 7.6MB/s eta 0:00:01\r\u001b[K     |████████████                    | 430kB 7.6MB/s eta 0:00:01\r\u001b[K     |████████████▎                   | 440kB 7.6MB/s eta 0:00:01\r\u001b[K     |████████████▌                   | 450kB 7.6MB/s eta 0:00:01\r\u001b[K     |████████████▉                   | 460kB 7.6MB/s eta 0:00:01\r\u001b[K     |█████████████                   | 471kB 7.6MB/s eta 0:00:01\r\u001b[K     |█████████████▍                  | 481kB 7.6MB/s eta 0:00:01\r\u001b[K     |█████████████▊                  | 491kB 7.6MB/s eta 0:00:01\r\u001b[K     |██████████████                  | 501kB 7.6MB/s eta 0:00:01\r\u001b[K     |██████████████▎                 | 512kB 7.6MB/s eta 0:00:01\r\u001b[K     |██████████████▌                 | 522kB 7.6MB/s eta 0:00:01\r\u001b[K     |██████████████▉                 | 532kB 7.6MB/s eta 0:00:01\r\u001b[K     |███████████████                 | 542kB 7.6MB/s eta 0:00:01\r\u001b[K     |███████████████▍                | 552kB 7.6MB/s eta 0:00:01\r\u001b[K     |███████████████▊                | 563kB 7.6MB/s eta 0:00:01\r\u001b[K     |████████████████                | 573kB 7.6MB/s eta 0:00:01\r\u001b[K     |████████████████▎               | 583kB 7.6MB/s eta 0:00:01\r\u001b[K     |████████████████▌               | 593kB 7.6MB/s eta 0:00:01\r\u001b[K     |████████████████▉               | 604kB 7.6MB/s eta 0:00:01\r\u001b[K     |█████████████████               | 614kB 7.6MB/s eta 0:00:01\r\u001b[K     |█████████████████▍              | 624kB 7.6MB/s eta 0:00:01\r\u001b[K     |█████████████████▋              | 634kB 7.6MB/s eta 0:00:01\r\u001b[K     |██████████████████              | 645kB 7.6MB/s eta 0:00:01\r\u001b[K     |██████████████████▎             | 655kB 7.6MB/s eta 0:00:01\r\u001b[K     |██████████████████▌             | 665kB 7.6MB/s eta 0:00:01\r\u001b[K     |██████████████████▉             | 675kB 7.6MB/s eta 0:00:01\r\u001b[K     |███████████████████             | 686kB 7.6MB/s eta 0:00:01\r\u001b[K     |███████████████████▍            | 696kB 7.6MB/s eta 0:00:01\r\u001b[K     |███████████████████▋            | 706kB 7.6MB/s eta 0:00:01\r\u001b[K     |████████████████████            | 716kB 7.6MB/s eta 0:00:01\r\u001b[K     |████████████████████▎           | 727kB 7.6MB/s eta 0:00:01\r\u001b[K     |████████████████████▌           | 737kB 7.6MB/s eta 0:00:01\r\u001b[K     |████████████████████▉           | 747kB 7.6MB/s eta 0:00:01\r\u001b[K     |█████████████████████           | 757kB 7.6MB/s eta 0:00:01\r\u001b[K     |█████████████████████▍          | 768kB 7.6MB/s eta 0:00:01\r\u001b[K     |█████████████████████▋          | 778kB 7.6MB/s eta 0:00:01\r\u001b[K     |██████████████████████          | 788kB 7.6MB/s eta 0:00:01\r\u001b[K     |██████████████████████▏         | 798kB 7.6MB/s eta 0:00:01\r\u001b[K     |██████████████████████▌         | 808kB 7.6MB/s eta 0:00:01\r\u001b[K     |██████████████████████▉         | 819kB 7.6MB/s eta 0:00:01\r\u001b[K     |███████████████████████         | 829kB 7.6MB/s eta 0:00:01\r\u001b[K     |███████████████████████▍        | 839kB 7.6MB/s eta 0:00:01\r\u001b[K     |███████████████████████▋        | 849kB 7.6MB/s eta 0:00:01\r\u001b[K     |████████████████████████        | 860kB 7.6MB/s eta 0:00:01\r\u001b[K     |████████████████████████▏       | 870kB 7.6MB/s eta 0:00:01\r\u001b[K     |████████████████████████▌       | 880kB 7.6MB/s eta 0:00:01\r\u001b[K     |████████████████████████▉       | 890kB 7.6MB/s eta 0:00:01\r\u001b[K     |█████████████████████████       | 901kB 7.6MB/s eta 0:00:01\r\u001b[K     |█████████████████████████▍      | 911kB 7.6MB/s eta 0:00:01\r\u001b[K     |█████████████████████████▋      | 921kB 7.6MB/s eta 0:00:01\r\u001b[K     |██████████████████████████      | 931kB 7.6MB/s eta 0:00:01\r\u001b[K     |██████████████████████████▏     | 942kB 7.6MB/s eta 0:00:01\r\u001b[K     |██████████████████████████▌     | 952kB 7.6MB/s eta 0:00:01\r\u001b[K     |██████████████████████████▉     | 962kB 7.6MB/s eta 0:00:01\r\u001b[K     |███████████████████████████     | 972kB 7.6MB/s eta 0:00:01\r\u001b[K     |███████████████████████████▍    | 983kB 7.6MB/s eta 0:00:01\r\u001b[K     |███████████████████████████▋    | 993kB 7.6MB/s eta 0:00:01\r\u001b[K     |████████████████████████████    | 1.0MB 7.6MB/s eta 0:00:01\r\u001b[K     |████████████████████████████▏   | 1.0MB 7.6MB/s eta 0:00:01\r\u001b[K     |████████████████████████████▌   | 1.0MB 7.6MB/s eta 0:00:01\r\u001b[K     |████████████████████████████▊   | 1.0MB 7.6MB/s eta 0:00:01\r\u001b[K     |█████████████████████████████   | 1.0MB 7.6MB/s eta 0:00:01\r\u001b[K     |█████████████████████████████▍  | 1.1MB 7.6MB/s eta 0:00:01\r\u001b[K     |█████████████████████████████▋  | 1.1MB 7.6MB/s eta 0:00:01\r\u001b[K     |██████████████████████████████  | 1.1MB 7.6MB/s eta 0:00:01\r\u001b[K     |██████████████████████████████▏ | 1.1MB 7.6MB/s eta 0:00:01\r\u001b[K     |██████████████████████████████▌ | 1.1MB 7.6MB/s eta 0:00:01\r\u001b[K     |██████████████████████████████▊ | 1.1MB 7.6MB/s eta 0:00:01\r\u001b[K     |███████████████████████████████ | 1.1MB 7.6MB/s eta 0:00:01\r\u001b[K     |███████████████████████████████▍| 1.1MB 7.6MB/s eta 0:00:01\r\u001b[K     |███████████████████████████████▋| 1.1MB 7.6MB/s eta 0:00:01\r\u001b[K     |████████████████████████████████| 1.1MB 7.6MB/s eta 0:00:01\r\u001b[K     |████████████████████████████████| 1.2MB 7.6MB/s \n",
            "\u001b[?25hRequirement already satisfied: numpy>=1.15 in /usr/local/lib/python3.7/dist-packages (from brian2) (1.19.5)\n",
            "Requirement already satisfied: cython>=0.29 in /usr/local/lib/python3.7/dist-packages (from brian2) (0.29.23)\n",
            "Requirement already satisfied: sympy>=1.2 in /usr/local/lib/python3.7/dist-packages (from brian2) (1.7.1)\n",
            "Requirement already satisfied: pyparsing in /usr/local/lib/python3.7/dist-packages (from brian2) (2.4.7)\n",
            "Requirement already satisfied: jinja2>=2.7 in /usr/local/lib/python3.7/dist-packages (from brian2) (2.11.3)\n",
            "Requirement already satisfied: setuptools>=24.2 in /usr/local/lib/python3.7/dist-packages (from brian2) (57.0.0)\n",
            "Requirement already satisfied: mpmath>=0.19 in /usr/local/lib/python3.7/dist-packages (from sympy>=1.2->brian2) (1.2.1)\n",
            "Requirement already satisfied: MarkupSafe>=0.23 in /usr/local/lib/python3.7/dist-packages (from jinja2>=2.7->brian2) (2.0.1)\n",
            "Building wheels for collected packages: brian2\n",
            "  Building wheel for brian2 (setup.py) ... \u001b[?25l\u001b[?25hdone\n",
            "  Created wheel for brian2: filename=Brian2-2.4.2-cp37-cp37m-linux_x86_64.whl size=1257161 sha256=dea5234a33e8d8b6b4e45a0e3d3e9efed2f66017c03a05d92c07b93cbf62dfee\n",
            "  Stored in directory: /root/.cache/pip/wheels/5d/4b/cf/ef50e71df5479d67f981cbb17b1d842381019d27ba144d57de\n",
            "Successfully built brian2\n",
            "Installing collected packages: brian2\n",
            "Successfully installed brian2-2.4.2\n"
          ],
          "name": "stdout"
        }
      ]
    },
    {
      "cell_type": "code",
      "metadata": {
        "id": "5RLYLRQNLGRY"
      },
      "source": [
        "from brian2 import *\n",
        "import random \n",
        "import numpy as np"
      ],
      "execution_count": 2,
      "outputs": []
    },
    {
      "cell_type": "code",
      "metadata": {
        "id": "4NUdysACUdu3"
      },
      "source": [
        "start_scope()\n",
        "\n",
        "tau_pre = tau_post = 10*ms\n",
        "A_pre = 0.15\n",
        "A_post = -A_pre*tau_pre/tau_post*1.5\n",
        "t_max = 50*ms\n",
        "N1 = 10\n",
        "N2 = 2\n",
        "\n",
        "presynaptic = NeuronGroup(N1, 'tspike:second', threshold='t>tspike', refractory=100*ms)\n",
        "postsynaptic = NeuronGroup(N2, 'tspike:second', threshold='t>tspike', refractory=100*ms)\n",
        "presynaptic.tspike = 'i*t_max/(N1-1)'\n",
        "postsynaptic.tspike = '(N2-1-i)*t_max/(N2-1)'\n",
        "\n",
        "S = Synapses(presynaptic, postsynaptic,\n",
        "             '''\n",
        "             w : 1\n",
        "             dapre/dt = -apre/tau_pre : 1 (event-driven)\n",
        "             dapost/dt = -apost/tau_post : 1 (event-driven)\n",
        "             ''',\n",
        "             on_pre='''\n",
        "             apre += A_pre\n",
        "             w = w+apost\n",
        "             ''',\n",
        "             on_post='''\n",
        "             apost += A_post\n",
        "             w = w+apre\n",
        "             ''')\n",
        "S.connect(i=np.arange(10),j=0)\n",
        "S.connect(i=np.arange(10),j=1)\n",
        "\n",
        "arr = []\n",
        "for x in range (2):\n",
        "  for y in range (10):\n",
        "    arr.append(postsynaptic.tspike[x] - presynaptic.tspike[y])\n",
        "\n",
        "out_spike_mon = SpikeMonitor(postsynaptic)\n",
        "in_spike_mon = SpikeMonitor(presynaptic)\n",
        "\n",
        "run(t_max+1*ms)"
      ],
      "execution_count": 3,
      "outputs": []
    },
    {
      "cell_type": "code",
      "metadata": {
        "colab": {
          "base_uri": "https://localhost:8080/",
          "height": 282
        },
        "id": "cBbeaA5rV7-j",
        "outputId": "b062bd4e-2666-4f59-e5db-3cb05cf793ed"
      },
      "source": [
        "plot(arr/ms, S.w, '.k')\n",
        "xlabel(r'$\\Delta t$ (ms)')\n",
        "ylabel(r'$\\Delta w$')\n",
        "axhline(0, ls='-', c='k')\n",
        "show()"
      ],
      "execution_count": 4,
      "outputs": [
        {
          "output_type": "display_data",
          "data": {
            "image/png": "[encoded data removed]",
            "text/plain": [
              "<Figure size 432x288 with 1 Axes>"
            ]
          },
          "metadata": {
            "tags": [],
            "needs_background": "light"
          }
        }
      ]
    },
    {
      "cell_type": "code",
      "metadata": {
        "colab": {
          "base_uri": "https://localhost:8080/",
          "height": 282
        },
        "id": "yyF03gpxbArC",
        "outputId": "d61c718a-e08c-4ad3-eaa7-ce23de07f59f"
      },
      "source": [
        "#output-spikes\n",
        "plot(out_spike_mon.t, out_spike_mon.i, '.k')"
      ],
      "execution_count": 5,
      "outputs": [
        {
          "output_type": "execute_result",
          "data": {
            "text/plain": [
              "[<matplotlib.lines.Line2D at 0x7f174ca21990>]"
            ]
          },
          "metadata": {
            "tags": []
          },
          "execution_count": 5
        },
        {
          "output_type": "display_data",
          "data": {
            "image/png": "[encoded data removed]",
            "text/plain": [
              "<Figure size 432x288 with 1 Axes>"
            ]
          },
          "metadata": {
            "tags": [],
            "needs_background": "light"
          }
        }
      ]
    },
    {
      "cell_type": "code",
      "metadata": {
        "colab": {
          "base_uri": "https://localhost:8080/",
          "height": 282
        },
        "id": "CzfNIWWtbCMc",
        "outputId": "f4a0487c-97df-4138-a18a-96f5c52d6be4"
      },
      "source": [
        "#Input_spikes\n",
        "plot(in_spike_mon.t, in_spike_mon.i, '.k' )"
      ],
      "execution_count": 6,
      "outputs": [
        {
          "output_type": "execute_result",
          "data": {
            "text/plain": [
              "[<matplotlib.lines.Line2D at 0x7f174cb16790>]"
            ]
          },
          "metadata": {
            "tags": []
          },
          "execution_count": 6
        },
        {
          "output_type": "display_data",
          "data": {
            "image/png": "[encoded data removed]",
            "text/plain": [
              "<Figure size 432x288 with 1 Axes>"
            ]
          },
          "metadata": {
            "tags": [],
            "needs_background": "light"
          }
        }
      ]
    },
    {
      "cell_type": "code",
      "metadata": {
        "id": "iKL3yEPwLRfL"
      },
      "source": [
        "tau_pre = tau_post = 10*ms\n",
        "A_pre = 0.15\n",
        "A_post = -A_pre*tau_pre/tau_post*1.5\n",
        "\n",
        "eqs = '''\n",
        "dv/dt = (I*1.5-v)/tau : 1\n",
        "I : 1\n",
        "tau : second\n",
        "'''"
      ],
      "execution_count": 7,
      "outputs": []
    },
    {
      "cell_type": "code",
      "metadata": {
        "colab": {
          "base_uri": "https://localhost:8080/",
          "height": 634
        },
        "id": "L_uacs0eLSCI",
        "outputId": "4933ab63-0fda-4a4d-cdc3-628e87de7b8d"
      },
      "source": [
        "start_scope()\n",
        "input_layer = NeuronGroup(10, eqs, threshold='v>=1', reset='v=0', method='exact')\n",
        "input_layer.I = [1, 2, 1, 1, 2, 0, 0, 0, 0, 0]\n",
        "input_layer.tau = [1*ms]*10\n",
        "\n",
        "output_layer    = NeuronGroup(2,  eqs, threshold='v>=1', reset='v=0', method='euler')\n",
        "\n",
        "S = Synapses(input_layer, output_layer,\n",
        "             '''\n",
        "             w : 1\n",
        "             dapre/dt = -apre/tau_pre : 1 (event-driven)\n",
        "             dapost/dt = -apost/tau_post : 1 (event-driven)\n",
        "             ''',\n",
        "             on_pre='''\n",
        "             apre += A_pre\n",
        "             w = w+apost\n",
        "             ''',\n",
        "             on_post='''\n",
        "             apost += A_post\n",
        "             w = w+apre\n",
        "             ''')\n",
        "S.connect(p=1)\n",
        "S.w = [rand() for i in range(20)]\n",
        "\n",
        "out_mon = StateMonitor(output_layer, 'v' , record=True)\n",
        "out_spike_mon = SpikeMonitor(output_layer)\n",
        "in_spike_mon = SpikeMonitor(input_layer)\n",
        "\n",
        "run(10*second)"
      ],
      "execution_count": 14,
      "outputs": [
        {
          "output_type": "stream",
          "text": [
            "WARNING    \"tau_post\" is an internal variable of group \"synapses_3\", but also exists in the run namespace with the value 10. * msecond. The internal variable will be used. [brian2.groups.group.Group.resolve.resolution_conflict]\n",
            "WARNING    \"tau_pre\" is an internal variable of group \"synapses_3\", but also exists in the run namespace with the value 10. * msecond. The internal variable will be used. [brian2.groups.group.Group.resolve.resolution_conflict]\n"
          ],
          "name": "stderr"
        },
        {
          "output_type": "error",
          "ename": "BrianObjectException",
          "evalue": "ignored",
          "traceback": [
            "\u001b[0;31m---------------------------------------------------------------------------\u001b[0m",
            "\u001b[0;31mZeroDivisionError\u001b[0m                         Traceback (most recent call last)",
            "\u001b[0;32m/usr/local/lib/python3.7/dist-packages/brian2/codegen/runtime/cython_rt/cython_rt.py\u001b[0m in \u001b[0;36mrun_block\u001b[0;34m(self, block)\u001b[0m\n\u001b[1;32m    159\u001b[0m             \u001b[0;32mtry\u001b[0m\u001b[0;34m:\u001b[0m\u001b[0;34m\u001b[0m\u001b[0;34m\u001b[0m\u001b[0m\n\u001b[0;32m--> 160\u001b[0;31m                 \u001b[0;32mreturn\u001b[0m \u001b[0mcompiled_code\u001b[0m\u001b[0;34m.\u001b[0m\u001b[0mmain\u001b[0m\u001b[0;34m(\u001b[0m\u001b[0mself\u001b[0m\u001b[0;34m.\u001b[0m\u001b[0mnamespace\u001b[0m\u001b[0;34m)\u001b[0m\u001b[0;34m\u001b[0m\u001b[0;34m\u001b[0m\u001b[0m\n\u001b[0m\u001b[1;32m    161\u001b[0m             \u001b[0;32mexcept\u001b[0m \u001b[0mException\u001b[0m \u001b[0;32mas\u001b[0m \u001b[0mexc\u001b[0m\u001b[0;34m:\u001b[0m\u001b[0;34m\u001b[0m\u001b[0;34m\u001b[0m\u001b[0m\n",
            "\u001b[0;32m_cython_magic_4844b0644a9ca8ca31ff91f6ceb2e559.pyx\u001b[0m in \u001b[0;36m_cython_magic_4844b0644a9ca8ca31ff91f6ceb2e559.main\u001b[0;34m()\u001b[0m\n",
            "\u001b[0;31mZeroDivisionError\u001b[0m: float division",
            "\nThe above exception was the direct cause of the following exception:\n",
            "\u001b[0;31mBrianObjectException\u001b[0m                      Traceback (most recent call last)",
            "\u001b[0;32m<ipython-input-14-3563035ee8d1>\u001b[0m in \u001b[0;36m<module>\u001b[0;34m()\u001b[0m\n\u001b[1;32m     27\u001b[0m \u001b[0min_spike_mon\u001b[0m \u001b[0;34m=\u001b[0m \u001b[0mSpikeMonitor\u001b[0m\u001b[0;34m(\u001b[0m\u001b[0minput_layer\u001b[0m\u001b[0;34m)\u001b[0m\u001b[0;34m\u001b[0m\u001b[0;34m\u001b[0m\u001b[0m\n\u001b[1;32m     28\u001b[0m \u001b[0;34m\u001b[0m\u001b[0m\n\u001b[0;32m---> 29\u001b[0;31m \u001b[0mrun\u001b[0m\u001b[0;34m(\u001b[0m\u001b[0;36m10\u001b[0m\u001b[0;34m*\u001b[0m\u001b[0msecond\u001b[0m\u001b[0;34m)\u001b[0m\u001b[0;34m\u001b[0m\u001b[0;34m\u001b[0m\u001b[0m\n\u001b[0m",
            "\u001b[0;32m/usr/local/lib/python3.7/dist-packages/brian2/units/fundamentalunits.py\u001b[0m in \u001b[0;36mnew_f\u001b[0;34m(*args, **kwds)\u001b[0m\n\u001b[1;32m   2432\u001b[0m                                                      get_dimensions(newkeyset[k]))\n\u001b[1;32m   2433\u001b[0m \u001b[0;34m\u001b[0m\u001b[0m\n\u001b[0;32m-> 2434\u001b[0;31m             \u001b[0mresult\u001b[0m \u001b[0;34m=\u001b[0m \u001b[0mf\u001b[0m\u001b[0;34m(\u001b[0m\u001b[0;34m*\u001b[0m\u001b[0margs\u001b[0m\u001b[0;34m,\u001b[0m \u001b[0;34m**\u001b[0m\u001b[0mkwds\u001b[0m\u001b[0;34m)\u001b[0m\u001b[0;34m\u001b[0m\u001b[0;34m\u001b[0m\u001b[0m\n\u001b[0m\u001b[1;32m   2435\u001b[0m             \u001b[0;32mif\u001b[0m \u001b[0;34m'result'\u001b[0m \u001b[0;32min\u001b[0m \u001b[0mau\u001b[0m\u001b[0;34m:\u001b[0m\u001b[0;34m\u001b[0m\u001b[0;34m\u001b[0m\u001b[0m\n\u001b[1;32m   2436\u001b[0m                 \u001b[0;32mif\u001b[0m \u001b[0misinstance\u001b[0m\u001b[0;34m(\u001b[0m\u001b[0mau\u001b[0m\u001b[0;34m[\u001b[0m\u001b[0;34m'result'\u001b[0m\u001b[0;34m]\u001b[0m\u001b[0;34m,\u001b[0m \u001b[0mCallable\u001b[0m\u001b[0;34m)\u001b[0m \u001b[0;32mand\u001b[0m \u001b[0mau\u001b[0m\u001b[0;34m[\u001b[0m\u001b[0;34m'result'\u001b[0m\u001b[0;34m]\u001b[0m \u001b[0;34m!=\u001b[0m \u001b[0mbool\u001b[0m\u001b[0;34m:\u001b[0m\u001b[0;34m\u001b[0m\u001b[0;34m\u001b[0m\u001b[0m\n",
            "\u001b[0;32m/usr/local/lib/python3.7/dist-packages/brian2/core/magic.py\u001b[0m in \u001b[0;36mrun\u001b[0;34m(duration, report, report_period, namespace, profile, level)\u001b[0m\n\u001b[1;32m    372\u001b[0m     '''\n\u001b[1;32m    373\u001b[0m     return magic_network.run(duration, report=report, report_period=report_period,\n\u001b[0;32m--> 374\u001b[0;31m                              namespace=namespace, profile=profile, level=2+level)\n\u001b[0m\u001b[1;32m    375\u001b[0m \u001b[0mrun\u001b[0m\u001b[0;34m.\u001b[0m\u001b[0m__module__\u001b[0m \u001b[0;34m=\u001b[0m \u001b[0m__name__\u001b[0m\u001b[0;34m\u001b[0m\u001b[0;34m\u001b[0m\u001b[0m\n\u001b[1;32m    376\u001b[0m \u001b[0;34m\u001b[0m\u001b[0m\n",
            "\u001b[0;32m/usr/local/lib/python3.7/dist-packages/brian2/core/magic.py\u001b[0m in \u001b[0;36mrun\u001b[0;34m(self, duration, report, report_period, namespace, profile, level)\u001b[0m\n\u001b[1;32m    230\u001b[0m         \u001b[0mself\u001b[0m\u001b[0;34m.\u001b[0m\u001b[0m_update_magic_objects\u001b[0m\u001b[0;34m(\u001b[0m\u001b[0mlevel\u001b[0m\u001b[0;34m=\u001b[0m\u001b[0mlevel\u001b[0m\u001b[0;34m+\u001b[0m\u001b[0;36m1\u001b[0m\u001b[0;34m)\u001b[0m\u001b[0;34m\u001b[0m\u001b[0;34m\u001b[0m\u001b[0m\n\u001b[1;32m    231\u001b[0m         Network.run(self, duration, report=report, report_period=report_period,\n\u001b[0;32m--> 232\u001b[0;31m                     namespace=namespace, profile=profile, level=level+1)\n\u001b[0m\u001b[1;32m    233\u001b[0m \u001b[0;34m\u001b[0m\u001b[0m\n\u001b[1;32m    234\u001b[0m     \u001b[0;32mdef\u001b[0m \u001b[0mstore\u001b[0m\u001b[0;34m(\u001b[0m\u001b[0mself\u001b[0m\u001b[0;34m,\u001b[0m \u001b[0mname\u001b[0m\u001b[0;34m=\u001b[0m\u001b[0;34m'default'\u001b[0m\u001b[0;34m,\u001b[0m \u001b[0mfilename\u001b[0m\u001b[0;34m=\u001b[0m\u001b[0;32mNone\u001b[0m\u001b[0;34m,\u001b[0m \u001b[0mlevel\u001b[0m\u001b[0;34m=\u001b[0m\u001b[0;36m0\u001b[0m\u001b[0;34m)\u001b[0m\u001b[0;34m:\u001b[0m\u001b[0;34m\u001b[0m\u001b[0;34m\u001b[0m\u001b[0m\n",
            "\u001b[0;32m/usr/local/lib/python3.7/dist-packages/brian2/core/base.py\u001b[0m in \u001b[0;36mdevice_override_decorated_function\u001b[0;34m(*args, **kwds)\u001b[0m\n\u001b[1;32m    276\u001b[0m                 \u001b[0;32mreturn\u001b[0m \u001b[0mgetattr\u001b[0m\u001b[0;34m(\u001b[0m\u001b[0mcurdev\u001b[0m\u001b[0;34m,\u001b[0m \u001b[0mname\u001b[0m\u001b[0;34m)\u001b[0m\u001b[0;34m(\u001b[0m\u001b[0;34m*\u001b[0m\u001b[0margs\u001b[0m\u001b[0;34m,\u001b[0m \u001b[0;34m**\u001b[0m\u001b[0mkwds\u001b[0m\u001b[0;34m)\u001b[0m\u001b[0;34m\u001b[0m\u001b[0;34m\u001b[0m\u001b[0m\n\u001b[1;32m    277\u001b[0m             \u001b[0;32melse\u001b[0m\u001b[0;34m:\u001b[0m\u001b[0;34m\u001b[0m\u001b[0;34m\u001b[0m\u001b[0m\n\u001b[0;32m--> 278\u001b[0;31m                 \u001b[0;32mreturn\u001b[0m \u001b[0mfunc\u001b[0m\u001b[0;34m(\u001b[0m\u001b[0;34m*\u001b[0m\u001b[0margs\u001b[0m\u001b[0;34m,\u001b[0m \u001b[0;34m**\u001b[0m\u001b[0mkwds\u001b[0m\u001b[0;34m)\u001b[0m\u001b[0;34m\u001b[0m\u001b[0;34m\u001b[0m\u001b[0m\n\u001b[0m\u001b[1;32m    279\u001b[0m \u001b[0;34m\u001b[0m\u001b[0m\n\u001b[1;32m    280\u001b[0m         \u001b[0mdevice_override_decorated_function\u001b[0m\u001b[0;34m.\u001b[0m\u001b[0m__doc__\u001b[0m \u001b[0;34m=\u001b[0m \u001b[0mfunc\u001b[0m\u001b[0;34m.\u001b[0m\u001b[0m__doc__\u001b[0m\u001b[0;34m\u001b[0m\u001b[0;34m\u001b[0m\u001b[0m\n",
            "\u001b[0;32m/usr/local/lib/python3.7/dist-packages/brian2/units/fundamentalunits.py\u001b[0m in \u001b[0;36mnew_f\u001b[0;34m(*args, **kwds)\u001b[0m\n\u001b[1;32m   2432\u001b[0m                                                      get_dimensions(newkeyset[k]))\n\u001b[1;32m   2433\u001b[0m \u001b[0;34m\u001b[0m\u001b[0m\n\u001b[0;32m-> 2434\u001b[0;31m             \u001b[0mresult\u001b[0m \u001b[0;34m=\u001b[0m \u001b[0mf\u001b[0m\u001b[0;34m(\u001b[0m\u001b[0;34m*\u001b[0m\u001b[0margs\u001b[0m\u001b[0;34m,\u001b[0m \u001b[0;34m**\u001b[0m\u001b[0mkwds\u001b[0m\u001b[0;34m)\u001b[0m\u001b[0;34m\u001b[0m\u001b[0;34m\u001b[0m\u001b[0m\n\u001b[0m\u001b[1;32m   2435\u001b[0m             \u001b[0;32mif\u001b[0m \u001b[0;34m'result'\u001b[0m \u001b[0;32min\u001b[0m \u001b[0mau\u001b[0m\u001b[0;34m:\u001b[0m\u001b[0;34m\u001b[0m\u001b[0;34m\u001b[0m\u001b[0m\n\u001b[1;32m   2436\u001b[0m                 \u001b[0;32mif\u001b[0m \u001b[0misinstance\u001b[0m\u001b[0;34m(\u001b[0m\u001b[0mau\u001b[0m\u001b[0;34m[\u001b[0m\u001b[0;34m'result'\u001b[0m\u001b[0;34m]\u001b[0m\u001b[0;34m,\u001b[0m \u001b[0mCallable\u001b[0m\u001b[0;34m)\u001b[0m \u001b[0;32mand\u001b[0m \u001b[0mau\u001b[0m\u001b[0;34m[\u001b[0m\u001b[0;34m'result'\u001b[0m\u001b[0;34m]\u001b[0m \u001b[0;34m!=\u001b[0m \u001b[0mbool\u001b[0m\u001b[0;34m:\u001b[0m\u001b[0;34m\u001b[0m\u001b[0;34m\u001b[0m\u001b[0m\n",
            "\u001b[0;32m/usr/local/lib/python3.7/dist-packages/brian2/core/network.py\u001b[0m in \u001b[0;36mrun\u001b[0;34m(self, duration, report, report_period, namespace, profile, level)\u001b[0m\n\u001b[1;32m   1074\u001b[0m                 \u001b[0;32melse\u001b[0m\u001b[0;34m:\u001b[0m\u001b[0;34m\u001b[0m\u001b[0;34m\u001b[0m\u001b[0m\n\u001b[1;32m   1075\u001b[0m                     \u001b[0;32mfor\u001b[0m \u001b[0mobj\u001b[0m \u001b[0;32min\u001b[0m \u001b[0mactive_objects\u001b[0m\u001b[0;34m:\u001b[0m\u001b[0;34m\u001b[0m\u001b[0;34m\u001b[0m\u001b[0m\n\u001b[0;32m-> 1076\u001b[0;31m                         \u001b[0mobj\u001b[0m\u001b[0;34m.\u001b[0m\u001b[0mrun\u001b[0m\u001b[0;34m(\u001b[0m\u001b[0;34m)\u001b[0m\u001b[0;34m\u001b[0m\u001b[0;34m\u001b[0m\u001b[0m\n\u001b[0m\u001b[1;32m   1077\u001b[0m \u001b[0;34m\u001b[0m\u001b[0m\n\u001b[1;32m   1078\u001b[0m                 \u001b[0mtimestep\u001b[0m\u001b[0;34m[\u001b[0m\u001b[0;36m0\u001b[0m\u001b[0;34m]\u001b[0m \u001b[0;34m+=\u001b[0m \u001b[0;36m1\u001b[0m\u001b[0;34m\u001b[0m\u001b[0;34m\u001b[0m\u001b[0m\n",
            "\u001b[0;32m/usr/local/lib/python3.7/dist-packages/brian2/core/base.py\u001b[0m in \u001b[0;36mrun\u001b[0;34m(self)\u001b[0m\n\u001b[1;32m    179\u001b[0m     \u001b[0;32mdef\u001b[0m \u001b[0mrun\u001b[0m\u001b[0;34m(\u001b[0m\u001b[0mself\u001b[0m\u001b[0;34m)\u001b[0m\u001b[0;34m:\u001b[0m\u001b[0;34m\u001b[0m\u001b[0;34m\u001b[0m\u001b[0m\n\u001b[1;32m    180\u001b[0m         \u001b[0;32mfor\u001b[0m \u001b[0mcodeobj\u001b[0m \u001b[0;32min\u001b[0m \u001b[0mself\u001b[0m\u001b[0;34m.\u001b[0m\u001b[0m_code_objects\u001b[0m\u001b[0;34m:\u001b[0m\u001b[0;34m\u001b[0m\u001b[0;34m\u001b[0m\u001b[0m\n\u001b[0;32m--> 181\u001b[0;31m             \u001b[0mcodeobj\u001b[0m\u001b[0;34m(\u001b[0m\u001b[0;34m)\u001b[0m\u001b[0;34m\u001b[0m\u001b[0;34m\u001b[0m\u001b[0m\n\u001b[0m\u001b[1;32m    182\u001b[0m \u001b[0;34m\u001b[0m\u001b[0m\n\u001b[1;32m    183\u001b[0m     contained_objects = property(fget=lambda self:self._contained_objects,\n",
            "\u001b[0;32m/usr/local/lib/python3.7/dist-packages/brian2/codegen/codeobject.py\u001b[0m in \u001b[0;36m__call__\u001b[0;34m(self, **kwds)\u001b[0m\n\u001b[1;32m    105\u001b[0m         \u001b[0mself\u001b[0m\u001b[0;34m.\u001b[0m\u001b[0mnamespace\u001b[0m\u001b[0;34m.\u001b[0m\u001b[0mupdate\u001b[0m\u001b[0;34m(\u001b[0m\u001b[0;34m**\u001b[0m\u001b[0mkwds\u001b[0m\u001b[0;34m)\u001b[0m\u001b[0;34m\u001b[0m\u001b[0;34m\u001b[0m\u001b[0m\n\u001b[1;32m    106\u001b[0m \u001b[0;34m\u001b[0m\u001b[0m\n\u001b[0;32m--> 107\u001b[0;31m         \u001b[0;32mreturn\u001b[0m \u001b[0mself\u001b[0m\u001b[0;34m.\u001b[0m\u001b[0mrun\u001b[0m\u001b[0;34m(\u001b[0m\u001b[0;34m)\u001b[0m\u001b[0;34m\u001b[0m\u001b[0;34m\u001b[0m\u001b[0m\n\u001b[0m\u001b[1;32m    108\u001b[0m \u001b[0;34m\u001b[0m\u001b[0m\n\u001b[1;32m    109\u001b[0m     \u001b[0;32mdef\u001b[0m \u001b[0mrun_block\u001b[0m\u001b[0;34m(\u001b[0m\u001b[0mself\u001b[0m\u001b[0;34m,\u001b[0m \u001b[0mblock\u001b[0m\u001b[0;34m)\u001b[0m\u001b[0;34m:\u001b[0m\u001b[0;34m\u001b[0m\u001b[0;34m\u001b[0m\u001b[0m\n",
            "\u001b[0;32m/usr/local/lib/python3.7/dist-packages/brian2/codegen/codeobject.py\u001b[0m in \u001b[0;36mrun\u001b[0;34m(self)\u001b[0m\n\u001b[1;32m    133\u001b[0m             \u001b[0mdefined\u001b[0m \u001b[0mduring\u001b[0m \u001b[0mthe\u001b[0m \u001b[0mcall\u001b[0m \u001b[0mof\u001b[0m\u001b[0;31m \u001b[0m\u001b[0;31m`\u001b[0m\u001b[0mCodeGenerator\u001b[0m\u001b[0;34m.\u001b[0m\u001b[0mcode_object\u001b[0m\u001b[0;31m`\u001b[0m\u001b[0;34m.\u001b[0m\u001b[0;34m\u001b[0m\u001b[0;34m\u001b[0m\u001b[0m\n\u001b[1;32m    134\u001b[0m         '''\n\u001b[0;32m--> 135\u001b[0;31m         \u001b[0;32mreturn\u001b[0m \u001b[0mself\u001b[0m\u001b[0;34m.\u001b[0m\u001b[0mrun_block\u001b[0m\u001b[0;34m(\u001b[0m\u001b[0;34m'run'\u001b[0m\u001b[0;34m)\u001b[0m\u001b[0;34m\u001b[0m\u001b[0;34m\u001b[0m\u001b[0m\n\u001b[0m\u001b[1;32m    136\u001b[0m \u001b[0;34m\u001b[0m\u001b[0m\n\u001b[1;32m    137\u001b[0m     \u001b[0;32mdef\u001b[0m \u001b[0mafter_run\u001b[0m\u001b[0;34m(\u001b[0m\u001b[0mself\u001b[0m\u001b[0;34m)\u001b[0m\u001b[0;34m:\u001b[0m\u001b[0;34m\u001b[0m\u001b[0;34m\u001b[0m\u001b[0m\n",
            "\u001b[0;32m/usr/local/lib/python3.7/dist-packages/brian2/codegen/runtime/cython_rt/cython_rt.py\u001b[0m in \u001b[0;36mrun_block\u001b[0;34m(self, block)\u001b[0m\n\u001b[1;32m    162\u001b[0m                 message = ('An exception occured during the execution of the {} '\n\u001b[1;32m    163\u001b[0m                            'block of code object {}.\\n').format(block, self.name)\n\u001b[0;32m--> 164\u001b[0;31m                 \u001b[0;32mraise\u001b[0m \u001b[0mBrianObjectException\u001b[0m\u001b[0;34m(\u001b[0m\u001b[0mmessage\u001b[0m\u001b[0;34m,\u001b[0m \u001b[0mself\u001b[0m\u001b[0;34m.\u001b[0m\u001b[0mowner\u001b[0m\u001b[0;34m)\u001b[0m \u001b[0;32mfrom\u001b[0m \u001b[0mexc\u001b[0m\u001b[0;34m\u001b[0m\u001b[0;34m\u001b[0m\u001b[0m\n\u001b[0m\u001b[1;32m    165\u001b[0m \u001b[0;34m\u001b[0m\u001b[0m\n\u001b[1;32m    166\u001b[0m     \u001b[0;32mdef\u001b[0m \u001b[0m_insert_func_namespace\u001b[0m\u001b[0;34m(\u001b[0m\u001b[0mself\u001b[0m\u001b[0;34m,\u001b[0m \u001b[0mfunc\u001b[0m\u001b[0;34m)\u001b[0m\u001b[0;34m:\u001b[0m\u001b[0;34m\u001b[0m\u001b[0;34m\u001b[0m\u001b[0m\n",
            "\u001b[0;31mBrianObjectException\u001b[0m: Error encountered with object named \"neurongroup_9\".\nObject was created here (most recent call only, full details in debug log):\n  File \"<ipython-input-14-3563035ee8d1>\", line 6, in <module>\n    output_layer    = NeuronGroup(2,  eqs, threshold='v>=1', reset='v=0', method='euler')\n\nAn exception occured during the execution of the run block of code object neurongroup_9_stateupdater_codeobject.\n (See above for original error message and traceback.)"
          ]
        }
      ]
    },
    {
      "cell_type": "code",
      "metadata": {
        "colab": {
          "base_uri": "https://localhost:8080/",
          "height": 408
        },
        "id": "78UfFq2HeEhF",
        "outputId": "30062c56-05b2-4125-9073-0583e7a6f4ae"
      },
      "source": [
        "fig, axs = plt.subplots(2, 2, figsize=(10,6))\n",
        "axs[0, 0].plot(out_mon.t, out_mon.v[0].T)\n",
        "axs[0, 0].set_title(\"V1\")\n",
        "axs[1, 0].plot(out_mon.t, out_mon.v[1].T)\n",
        "axs[1, 0].set_title(\"V2\")\n",
        "\n",
        "axs[0, 1].plot(out_spike_mon.t, out_spike_mon.i, '.k')\n",
        "axs[0, 1].set_title(\"output-spikes\")\n",
        "axs[1, 1].plot(in_spike_mon.t, in_spike_mon.i, '.k')\n",
        "axs[1, 1].set_title(\"input-spikes\")"
      ],
      "execution_count": 18,
      "outputs": [
        {
          "output_type": "execute_result",
          "data": {
            "text/plain": [
              "Text(0.5, 1.0, 'input-spikes')"
            ]
          },
          "metadata": {
            "tags": []
          },
          "execution_count": 18
        },
        {
          "output_type": "display_data",
          "data": {
            "image/png": "[encoded data removed]",
            "text/plain": [
              "<Figure size 720x432 with 4 Axes>"
            ]
          },
          "metadata": {
            "tags": [],
            "needs_background": "light"
          }
        }
      ]
    },
    {
      "cell_type": "code",
      "metadata": {
        "id": "0Ng1WwN7dT9C"
      },
      "source": [
        ""
      ],
      "execution_count": null,
      "outputs": []
    }
  ]
}