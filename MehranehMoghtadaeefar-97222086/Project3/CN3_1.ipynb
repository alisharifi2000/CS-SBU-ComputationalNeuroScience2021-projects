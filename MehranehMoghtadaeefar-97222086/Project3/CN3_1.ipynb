{
  "nbformat": 4,
  "nbformat_minor": 0,
  "metadata": {
    "colab": {
      "name": "CN3-1.ipynb",
      "provenance": [],
      "collapsed_sections": []
    },
    "kernelspec": {
      "name": "python3",
      "display_name": "Python 3"
    },
    "language_info": {
      "name": "python"
    }
  },
  "cells": [
    {
      "cell_type": "code",
      "metadata": {
        "colab": {
          "base_uri": "https://localhost:8080/"
        },
        "id": "8KvdzJhwIF66",
        "outputId": "c3658d7d-ffdf-4827-af78-a1217d3ec7e4"
      },
      "source": [
        "!pip install brian2tools"
      ],
      "execution_count": null,
      "outputs": [
        {
          "output_type": "stream",
          "text": [
            "Collecting brian2tools\n",
            "  Downloading https://files.pythonhosted.org/packages/a4/69/e60d50a603d764e16f352ee65c538625ba2524e2d8ecf6d417e8885589eb/brian2tools-0.2.1.1-py2.py3-none-any.whl\n",
            "Collecting brian2>=2.0\n",
            "\u001b[?25l  Downloading https://files.pythonhosted.org/packages/9a/c7/565012c479953d041d5e828938515d3c402d0c3f4942180f1c44cb0f472e/Brian2-2.4.2.tar.gz (1.2MB)\n",
            "\u001b[K     |████████████████████████████████| 1.2MB 25.9MB/s \n",
            "\u001b[?25hRequirement already satisfied: matplotlib>=1.3.1 in /usr/local/lib/python3.7/dist-packages (from brian2tools) (3.2.2)\n",
            "Collecting pylems>=0.4.9\n",
            "\u001b[?25l  Downloading https://files.pythonhosted.org/packages/44/57/23341fb878a3d90534bf01cdcb5207cdb7698ba63cee552e71e5d96dcda7/PyLEMS-0.5.2-py3-none-any.whl (64kB)\n",
            "\u001b[K     |████████████████████████████████| 71kB 9.7MB/s \n",
            "\u001b[?25hRequirement already satisfied: setuptools in /usr/local/lib/python3.7/dist-packages (from brian2tools) (57.0.0)\n",
            "Collecting setuptools-scm\n",
            "  Downloading https://files.pythonhosted.org/packages/c4/d5/e50358c82026f44cd8810c8165002746cd3f8b78865f6bcf5d7f0fe4f652/setuptools_scm-6.0.1-py3-none-any.whl\n",
            "Requirement already satisfied: numpy>=1.15 in /usr/local/lib/python3.7/dist-packages (from brian2>=2.0->brian2tools) (1.19.5)\n",
            "Requirement already satisfied: cython>=0.29 in /usr/local/lib/python3.7/dist-packages (from brian2>=2.0->brian2tools) (0.29.23)\n",
            "Requirement already satisfied: sympy>=1.2 in /usr/local/lib/python3.7/dist-packages (from brian2>=2.0->brian2tools) (1.7.1)\n",
            "Requirement already satisfied: pyparsing in /usr/local/lib/python3.7/dist-packages (from brian2>=2.0->brian2tools) (2.4.7)\n",
            "Requirement already satisfied: jinja2>=2.7 in /usr/local/lib/python3.7/dist-packages (from brian2>=2.0->brian2tools) (2.11.3)\n",
            "Requirement already satisfied: cycler>=0.10 in /usr/local/lib/python3.7/dist-packages (from matplotlib>=1.3.1->brian2tools) (0.10.0)\n",
            "Requirement already satisfied: kiwisolver>=1.0.1 in /usr/local/lib/python3.7/dist-packages (from matplotlib>=1.3.1->brian2tools) (1.3.1)\n",
            "Requirement already satisfied: python-dateutil>=2.1 in /usr/local/lib/python3.7/dist-packages (from matplotlib>=1.3.1->brian2tools) (2.8.1)\n",
            "Requirement already satisfied: lxml in /usr/local/lib/python3.7/dist-packages (from pylems>=0.4.9->brian2tools) (4.2.6)\n",
            "Requirement already satisfied: mpmath>=0.19 in /usr/local/lib/python3.7/dist-packages (from sympy>=1.2->brian2>=2.0->brian2tools) (1.2.1)\n",
            "Requirement already satisfied: MarkupSafe>=0.23 in /usr/local/lib/python3.7/dist-packages (from jinja2>=2.7->brian2>=2.0->brian2tools) (2.0.1)\n",
            "Requirement already satisfied: six in /usr/local/lib/python3.7/dist-packages (from cycler>=0.10->matplotlib>=1.3.1->brian2tools) (1.15.0)\n",
            "Building wheels for collected packages: brian2\n",
            "  Building wheel for brian2 (setup.py) ... \u001b[?25l\u001b[?25hdone\n",
            "  Created wheel for brian2: filename=Brian2-2.4.2-cp37-cp37m-linux_x86_64.whl size=1257143 sha256=b7e12c58e13eb9a9849c3d7256e21ec9e5de6d3b3d181c47c7fcdfc0baf820e9\n",
            "  Stored in directory: /root/.cache/pip/wheels/5d/4b/cf/ef50e71df5479d67f981cbb17b1d842381019d27ba144d57de\n",
            "Successfully built brian2\n",
            "Installing collected packages: brian2, pylems, setuptools-scm, brian2tools\n",
            "Successfully installed brian2-2.4.2 brian2tools-0.2.1.1 pylems-0.5.2 setuptools-scm-6.0.1\n"
          ],
          "name": "stdout"
        }
      ]
    },
    {
      "cell_type": "code",
      "metadata": {
        "id": "HZZsy0hvIH7_"
      },
      "source": [
        "from brian2 import *\n",
        "import random"
      ],
      "execution_count": null,
      "outputs": []
    },
    {
      "cell_type": "code",
      "metadata": {
        "id": "EAU0lx36IC9h"
      },
      "source": [
        "start_scope()\n",
        "\n",
        "tau_pre = tau_post = 10*ms\n",
        "A_pre = 0.15\n",
        "A_post = -A_pre*tau_pre/tau_post*1.5\n",
        "t_max = 50*ms\n",
        "N = 100\n",
        "\n",
        "# Presynaptic neurons G spike at times from 0 to tmax\n",
        "# Postsynaptic neurons G spike at times from tmax to 0\n",
        "# So difference in spike times will vary from -tmax to +tmax\n",
        "presynaptic = NeuronGroup(N, 'tspike:second', threshold='t>tspike', refractory=100*ms)\n",
        "postsynaptic = NeuronGroup(N, 'tspike:second', threshold='t>tspike', refractory=100*ms)\n",
        "presynaptic.tspike = 'i*tmax/(N-1)'\n",
        "postsynaptic.tspike = '(N-1-i)*tmax/(N-1)'\n",
        "\n",
        "S = Synapses(presynaptic, postsynaptic,\n",
        "             '''\n",
        "             w : 1\n",
        "             dapre/dt = -apre/tau_pre : 1 (event-driven)\n",
        "             dapost/dt = -apost/tau_post : 1 (event-driven)\n",
        "             ''',\n",
        "             on_pre='''\n",
        "             apre += A_pre\n",
        "             w = w+apost\n",
        "             ''',\n",
        "             on_post='''\n",
        "             apost += A_post\n",
        "             w = w+apre\n",
        "             ''')\n",
        "S.connect(j='i')\n",
        "\n",
        "run(tmax+1*ms)"
      ],
      "execution_count": null,
      "outputs": []
    },
    {
      "cell_type": "code",
      "metadata": {
        "colab": {
          "base_uri": "https://localhost:8080/",
          "height": 282
        },
        "id": "giJs47uvMigm",
        "outputId": "4a2c7931-8696-41e4-d63f-2e201cfbdcf6"
      },
      "source": [
        "plot((postsynaptic.tspike - presynaptic.tspike)/ms, S.w, '.k')\n",
        "xlabel(r'$\\Delta t$ (ms)')\n",
        "ylabel(r'$\\Delta w$')\n",
        "axhline(0, ls='-', c='k')\n",
        "show()"
      ],
      "execution_count": null,
      "outputs": [
        {
          "output_type": "display_data",
          "data": {
            "image/png": "[encoded data removed]",
            "text/plain": [
              "<Figure size 432x288 with 1 Axes>"
            ]
          },
          "metadata": {
            "tags": [],
            "needs_background": "light"
          }
        }
      ]
    },
    {
      "cell_type": "code",
      "metadata": {
        "id": "uncwIE5AM1OP"
      },
      "source": [
        ""
      ],
      "execution_count": null,
      "outputs": []
    }
  ]
}