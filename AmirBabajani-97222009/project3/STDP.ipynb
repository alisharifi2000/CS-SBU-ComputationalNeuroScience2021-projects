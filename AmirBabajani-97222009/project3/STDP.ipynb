{
  "nbformat": 4,
  "nbformat_minor": 0,
  "metadata": {
    "colab": {
      "name": "STDP.ipynb",
      "provenance": [],
      "collapsed_sections": []
    },
    "kernelspec": {
      "name": "python3",
      "display_name": "Python 3"
    },
    "language_info": {
      "name": "python"
    }
  },
  "cells": [
    {
      "cell_type": "code",
      "metadata": {
        "colab": {
          "base_uri": "https://localhost:8080/"
        },
        "id": "08YgPr-5P_2q",
        "outputId": "b7dfe809-42ce-4f81-b6ab-cb93a8e954bc"
      },
      "source": [
        "!pip install brian2"
      ],
      "execution_count": null,
      "outputs": [
        {
          "output_type": "stream",
          "text": [
            "Requirement already satisfied: brian2 in /usr/local/lib/python3.7/dist-packages (2.4.2)\n",
            "Requirement already satisfied: setuptools>=24.2 in /usr/local/lib/python3.7/dist-packages (from brian2) (56.1.0)\n",
            "Requirement already satisfied: jinja2>=2.7 in /usr/local/lib/python3.7/dist-packages (from brian2) (2.11.3)\n",
            "Requirement already satisfied: cython>=0.29 in /usr/local/lib/python3.7/dist-packages (from brian2) (0.29.23)\n",
            "Requirement already satisfied: numpy>=1.15 in /usr/local/lib/python3.7/dist-packages (from brian2) (1.19.5)\n",
            "Requirement already satisfied: pyparsing in /usr/local/lib/python3.7/dist-packages (from brian2) (2.4.7)\n",
            "Requirement already satisfied: sympy>=1.2 in /usr/local/lib/python3.7/dist-packages (from brian2) (1.7.1)\n",
            "Requirement already satisfied: MarkupSafe>=0.23 in /usr/local/lib/python3.7/dist-packages (from jinja2>=2.7->brian2) (2.0.1)\n",
            "Requirement already satisfied: mpmath>=0.19 in /usr/local/lib/python3.7/dist-packages (from sympy>=1.2->brian2) (1.2.1)\n"
          ],
          "name": "stdout"
        }
      ]
    },
    {
      "cell_type": "code",
      "metadata": {
        "id": "gBXx45DeQA6-"
      },
      "source": [
        "from brian2 import *"
      ],
      "execution_count": null,
      "outputs": []
    },
    {
      "cell_type": "code",
      "metadata": {
        "id": "lOtHaiItQEY8"
      },
      "source": [
        "taupre      = taupost = 20*ms\n",
        "Apre        = 0.01\n",
        "Apost       = -Apre*taupre/taupost*1.05\n",
        "tmax        = 50*ms\n",
        "N_post      = 2\n",
        "N_pre       = 10\n",
        "spike_dt    = []"
      ],
      "execution_count": null,
      "outputs": []
    },
    {
      "cell_type": "code",
      "metadata": {
        "id": "eG93nXDRQFyc"
      },
      "source": [
        "pre         = NeuronGroup(N_pre, 'tspike:second', threshold='t>tspike', refractory=100*ms)\n",
        "post        = NeuronGroup(N_post, 'tspike:second', threshold='t>tspike', refractory=100*ms)\n",
        "pre.tspike  = 'i*tmax /(N_pre -1)'\n",
        "post.tspike = '(N_post-1-i)*tmax / (N_post-1)'"
      ],
      "execution_count": null,
      "outputs": []
    },
    {
      "cell_type": "code",
      "metadata": {
        "id": "kDNyXPQsQJBb"
      },
      "source": [
        "S = Synapses(pre, post,\n",
        "             '''\n",
        "             w : 1\n",
        "             dapre/dt = -apre/taupre : 1 (event-driven)\n",
        "             dapost/dt = -apost/taupost : 1 (event-driven)\n",
        "             ''',\n",
        "             on_pre='''\n",
        "             apre += Apre\n",
        "             w = w+apost\n",
        "             ''',\n",
        "             on_post='''\n",
        "             apost += Apost\n",
        "             w = w+apre\n",
        "             ''')\n",
        "S.connect(i=numpy.arange(10), j=0)\n",
        "S.connect(i=numpy.arange(10), j=1)"
      ],
      "execution_count": null,
      "outputs": []
    },
    {
      "cell_type": "code",
      "metadata": {
        "id": "CegGhI2JQKtL"
      },
      "source": [
        "run(tmax+1*ms)"
      ],
      "execution_count": null,
      "outputs": []
    },
    {
      "cell_type": "code",
      "metadata": {
        "id": "eo1tjsO1VarB"
      },
      "source": [
        "for x in range(2):\n",
        "  for y in range(10):\n",
        "    spike_dt.append(post.tspike[x] - pre.tspike[y])"
      ],
      "execution_count": null,
      "outputs": []
    },
    {
      "cell_type": "code",
      "metadata": {
        "colab": {
          "base_uri": "https://localhost:8080/",
          "height": 282
        },
        "id": "-LdyS3wAXVJx",
        "outputId": "bdd5b87d-d9a0-4f18-cf7b-b6a21d00f305"
      },
      "source": [
        "plot(spike_dt/ms, S.w, '.k')\n",
        "xlabel(r'$\\Delta t$ (ms)')\n",
        "ylabel(r'$\\Delta w$')\n",
        "axhline(0, ls='-', c='k')\n",
        "show()"
      ],
      "execution_count": null,
      "outputs": [
        {
          "output_type": "display_data",
          "data": {
            "image/png": "[encoded data removed]",
            "text/plain": [
              "<Figure size 432x288 with 1 Axes>"
            ]
          },
          "metadata": {
            "tags": [],
            "needs_background": "light"
          }
        }
      ]
    }
  ]
}